{
  "cells": [
    {
      "cell_type": "markdown",
      "metadata": {
        "colab_type": "text",
        "id": "view-in-github"
      },
      "source": [
        "<a href=\"https://colab.research.google.com/github/CaiqueSantosOC/Projeto_ChatBot_Gemini/blob/main/C%C3%B3pia_de_Untitled.ipynb\" target=\"_parent\"><img src=\"https://colab.research.google.com/assets/colab-badge.svg\" alt=\"Open In Colab\"/></a>"
      ]
    },
    {
      "cell_type": "code",
      "execution_count": null,
      "metadata": {
        "colab": {
          "base_uri": "https://localhost:8080/",
          "height": 1000
        },
        "id": "BMAzjvkPQapS",
        "outputId": "b5c2f2bb-ee3e-44c6-d0b5-026019d058fe"
      },
      "outputs": [
        {
          "ename": "",
          "evalue": "",
          "output_type": "error",
          "traceback": [
            "\u001b[1;31mA execução de células com 'Python 3.12.3' requer o pacote ipykernel.\n",
            "\u001b[1;31mExecute o seguinte comando para instalar \"ipykernel\" no ambiente do Python. \n",
            "\u001b[1;31mComando: \"c:/Users/produ/AppData/Local/Programs/Python/Python312/python.exe -m pip install ipykernel -U --user --force-reinstall\""
          ]
        }
      ],
      "source": [
        "# Instalando o SDK do Google\n",
        "%pip install -q -U google-generativeai\n",
        "\n",
        "# Import the Python SDK\n",
        "import google.generativeai as genai\n",
        "from google.colab import userdata\n",
        "api_key = userdata.get('SECRET_KEY')\n",
        "genai.configure(api_key=api_key)\n",
        "\n",
        "# Listar os modelos disponíveis\n",
        "for m in genai.list_models():\n",
        "  if 'generateContent' in m.supported_generation_methods:\n",
        "    print(m.name)\n",
        "\n",
        "generation_config = {\n",
        "    'candidate_count': 1,\n",
        "    'temperature':0.5,\n",
        "}\n",
        "\n",
        "safety_settings = {\n",
        "    'hate': 'block_none',\n",
        "    'harassment': 'block_none',\n",
        "    'sexual': 'block_none',\n",
        "    'dangerous': 'block_none'\n",
        "}\n",
        "\n",
        "# Configurações do meu chatbot, inicializando meu modelo.\n",
        "model = genai.GenerativeModel(model_name=\"gemini-1.0-pro\",\n",
        "                              generation_config=generation_config,\n",
        "                              safety_settings=safety_settings)\n",
        "\n",
        "response = model.generate_content('Vamos aprender um pouco sobre a história da tecnologia.')\n",
        "print(response.text)\n",
        "\n",
        "chat = model.start_chat(history=[])\n",
        "\n",
        "def main():\n",
        "    print(\"Bem-vindo ao ChatBot!\\n\")\n",
        "\n",
        "    while True:\n",
        "        prompt = input('Você: ')\n",
        "        if prompt.lower() == 'fim':\n",
        "            print(\"Chat encerrado. Até mais!\")\n",
        "            break\n",
        "\n",
        "        response = chat.send_message(prompt)\n",
        "        print('ChatBot:', response.text, '\\n')\n",
        "\n",
        "if __name__ == \"__main__\":\n",
        "    main()\n",
        "\n"
      ]
    }
  ],
  "metadata": {
    "colab": {
      "authorship_tag": "ABX9TyPdGWGlSNZ8I3ocDh3mCb16",
      "include_colab_link": true,
      "provenance": []
    },
    "kernelspec": {
      "display_name": "Python 3",
      "name": "python3"
    },
    "language_info": {
      "name": "python",
      "version": "3.12.3"
    }
  },
  "nbformat": 4,
  "nbformat_minor": 0
}
