{
  "cells": [
    {
      "cell_type": "markdown",
      "metadata": {
        "id": "view-in-github",
        "colab_type": "text"
      },
      "source": [
        "<a href=\"https://colab.research.google.com/github/CaiqueSantosOC/Projeto_ChatBot_Gemini/blob/main/C%C3%B3pia_de_Untitled.ipynb\" target=\"_parent\"><img src=\"https://colab.research.google.com/assets/colab-badge.svg\" alt=\"Open In Colab\"/></a>"
      ]
    },
    {
      "cell_type": "code",
      "execution_count": null,
      "metadata": {
        "id": "BMAzjvkPQapS",
        "colab": {
          "base_uri": "https://localhost:8080/",
          "height": 1000
        },
        "outputId": "b5c2f2bb-ee3e-44c6-d0b5-026019d058fe"
      },
      "outputs": [
        {
          "output_type": "stream",
          "name": "stdout",
          "text": [
            "models/gemini-1.0-pro\n",
            "models/gemini-1.0-pro-001\n",
            "models/gemini-1.0-pro-latest\n",
            "models/gemini-1.0-pro-vision-latest\n",
            "models/gemini-1.5-pro-latest\n",
            "models/gemini-pro\n",
            "models/gemini-pro-vision\n",
            "**Era Pré-Industrial**\n",
            "\n",
            "* **c. 3000 a.C.:** Invenção da roda\n",
            "* **c. 1500 a.C.:** Desenvolvimento do arado de ferro\n",
            "* **c. 1000 a.C.:** Invenção do alfabeto\n",
            "* **c. 500 a.C.:** Surgimento das primeiras cidades e civilizações\n",
            "\n",
            "**Revolução Industrial (séculos XVIII e XIX)**\n",
            "\n",
            "* **1764:** Invenção da máquina a vapor por James Watt\n",
            "* **1769:** Invenção da fiação mecânica por Richard Arkwright\n",
            "* **1784:** Invenção do tear mecânico por Edmund Cartwright\n",
            "* **1807:** Invenção do navio a vapor por Robert Fulton\n",
            "* **1825:** Desenvolvimento da locomotiva a vapor por George Stephenson\n",
            "\n",
            "**Segunda Revolução Industrial (final do século XIX e início do século XX)**\n",
            "\n",
            "* **1876:** Invenção do telefone por Alexander Graham Bell\n",
            "* **1879:** Invenção da lâmpada elétrica por Thomas Edison\n",
            "* **1895:** Invenção do automóvel por Karl Benz\n",
            "* **1903:** Invenção do avião pelos irmãos Wright\n",
            "\n",
            "**Era da Informação (século XX)**\n",
            "\n",
            "* **1943:** Desenvolvimento do primeiro computador eletrônico, o ENIAC\n",
            "* **1957:** Lançamento do primeiro satélite artificial, o Sputnik\n",
            "* **1969:** Homem na Lua\n",
            "* **1971:** Invenção do microprocessador por Intel\n",
            "* **1981:** Lançamento do primeiro computador pessoal, o IBM PC\n",
            "\n",
            "**Era Digital (século XXI)**\n",
            "\n",
            "* **1990:** Surgimento da internet\n",
            "* **2001:** Lançamento do primeiro iPhone\n",
            "* **2007:** Desenvolvimento da inteligência artificial (IA)\n",
            "* **2010:** Surgimento das redes sociais\n",
            "* **2020:** Pandemia de COVID-19 acelera a adoção de tecnologias digitais\n",
            "Bem-vindo ao ChatBot!\n",
            "\n",
            "Você: Olá tudo bem?\n",
            "ChatBot: Olá, tudo bem sim, obrigado por perguntar. E você, como está? \n",
            "\n",
            "Você: estou ótimo! \n",
            "ChatBot: Que bom! Fico feliz em saber que você está bem. \n",
            "\n",
            "Você: Preciso de uma ajuda\n",
            "ChatBot: Claro, como posso ajudá-lo(a)? \n",
            "\n",
            "Você: cite para mim 3 cursos de python gratuitos com certificado\n",
            "ChatBot: 1. **Python para Iniciantes** pela Microsoft no edX (certificado de conclusão)\n",
            "2. **Introdução ao Python** pela Google no Coursera (certificado de conclusão)\n",
            "3. **Python Essentials** pela IBM no Coursera (certificado de conclusão) \n",
            "\n",
            "Você: muito obrigado\n",
            "ChatBot: De nada! Fico feliz em ajudar. \n",
            "\n"
          ]
        }
      ],
      "source": [
        "# Instalando o SDK do Google\n",
        "!pip install -q -U google-generativeai\n",
        "\n",
        "# Import the Python SDK\n",
        "import google.generativeai as genai\n",
        "from google.colab import userdata\n",
        "api_key = userdata.get('SECRET_KEY')\n",
        "genai.configure(api_key=api_key)\n",
        "\n",
        "# Listar os modelos disponíveis\n",
        "for m in genai.list_models():\n",
        "  if 'generateContent' in m.supported_generation_methods:\n",
        "    print(m.name)\n",
        "\n",
        "generation_config = {\n",
        "    'candidate_count': 1,\n",
        "    'temperature':0.5,\n",
        "}\n",
        "\n",
        "safety_settings = {\n",
        "    'hate': 'block_none',\n",
        "    'harassment': 'block_none',\n",
        "    'sexual': 'block_none',\n",
        "    'dangerous': 'block_none'\n",
        "}\n",
        "\n",
        "# Configurações do meu chatbot, inicializando meu modelo.\n",
        "model = genai.GenerativeModel(model_name=\"gemini-1.0-pro\",\n",
        "                              generation_config=generation_config,\n",
        "                              safety_settings=safety_settings)\n",
        "\n",
        "response = model.generate_content('Vamos aprender um pouco sobre a história da tecnologia.')\n",
        "print(response.text)\n",
        "\n",
        "chat = model.start_chat(history=[])\n",
        "\n",
        "def main():\n",
        "    print(\"Bem-vindo ao ChatBot!\\n\")\n",
        "\n",
        "    while True:\n",
        "        prompt = input('Você: ')\n",
        "        if prompt.lower() == 'fim':\n",
        "            print(\"Chat encerrado. Até mais!\")\n",
        "            break\n",
        "\n",
        "        response = chat.send_message(prompt)\n",
        "        print('ChatBot:', response.text, '\\n')\n",
        "\n",
        "if __name__ == \"__main__\":\n",
        "    main()\n",
        "\n"
      ]
    }
  ],
  "metadata": {
    "colab": {
      "provenance": [],
      "authorship_tag": "ABX9TyPdGWGlSNZ8I3ocDh3mCb16",
      "include_colab_link": true
    },
    "kernelspec": {
      "display_name": "Python 3",
      "name": "python3"
    },
    "language_info": {
      "name": "python"
    }
  },
  "nbformat": 4,
  "nbformat_minor": 0
}